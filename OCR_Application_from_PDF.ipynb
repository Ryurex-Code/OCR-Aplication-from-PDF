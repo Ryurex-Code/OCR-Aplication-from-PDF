{
  "nbformat": 4,
  "nbformat_minor": 0,
  "metadata": {
    "colab": {
      "provenance": [],
      "gpuType": "T4",
      "authorship_tag": "ABX9TyM5oOF+wUIK0qonbYmOn2Ry",
      "include_colab_link": true
    },
    "kernelspec": {
      "name": "python3",
      "display_name": "Python 3"
    },
    "language_info": {
      "name": "python"
    },
    "accelerator": "GPU"
  },
  "cells": [
    {
      "cell_type": "markdown",
      "metadata": {
        "id": "view-in-github",
        "colab_type": "text"
      },
      "source": [
        "<a href=\"https://colab.research.google.com/github/Ryurex-Code/OCR-Aplication-from-PDF/blob/main/OCR_Application_from_PDF.ipynb\" target=\"_parent\"><img src=\"https://colab.research.google.com/assets/colab-badge.svg\" alt=\"Open In Colab\"/></a>"
      ]
    },
    {
      "cell_type": "code",
      "source": [
        "# Install dependencies\n",
        "!sudo apt-get install -y poppler-utils tesseract-ocr\n",
        "!pip install pytesseract pillow pdf2image openpyxl\n",
        "\n",
        "import pytesseract\n",
        "from PIL import Image\n",
        "from pdf2image import convert_from_path\n",
        "import pandas as pd\n",
        "\n",
        "# Fungsi untuk mengonversi PDF menjadi gambar dan mengekstrak teks menggunakan OCR\n",
        "def extract_text_from_pdf(pdf_path):\n",
        "    images = convert_from_path(pdf_path)  # Mengonversi PDF ke gambar\n",
        "    text = \"\"\n",
        "    for i, image in enumerate(images):\n",
        "        print(f\"Memproses halaman {i+1}...\")\n",
        "        text += pytesseract.image_to_string(image)  # OCR untuk teks pada gambar\n",
        "    return text\n",
        "\n",
        "# Simpan teks hasil OCR ke file teks dan Excel\n",
        "def save_text_to_files(text, txt_file, excel_file):\n",
        "    # Pisahkan teks menjadi baris dan simpan ke file teks\n",
        "    lines = text.splitlines()\n",
        "    with open(txt_file, 'w') as f:\n",
        "        f.write(\"\\n\".join(lines))\n",
        "    print(f\"Teks disimpan ke file Notepad: {txt_file}\")\n",
        "\n",
        "    # Simpan ke file Excel\n",
        "    df = pd.DataFrame(lines, columns=[\"Text\"])\n",
        "    df.to_excel(excel_file, index=False)\n",
        "    print(f\"Teks disimpan ke file Excel: {excel_file}\")\n",
        "\n",
        "# Fungsi untuk memproses file teks: hapus spasi berlebih dan ambil kata pertama dari setiap baris\n",
        "def process_text_file(input_file, output_txt, output_excel):\n",
        "    with open(input_file, 'r') as file:\n",
        "        lines = file.readlines()\n",
        "\n",
        "    processed_lines = [line.split()[0] for line in lines if line.strip()]\n",
        "\n",
        "    # Simpan hasil ke file teks dan Excel\n",
        "    with open(output_txt, 'w') as f:\n",
        "        f.write(\"\\n\".join(processed_lines))\n",
        "    print(f\"Hasil diproses disimpan ke: {output_txt}\")\n",
        "\n",
        "    df = pd.DataFrame(processed_lines, columns=[\"Words\"])\n",
        "    df.to_excel(output_excel, index=False)\n",
        "    print(f\"Hasil diproses disimpan ke: {output_excel}\")\n",
        "\n",
        "# Path ke file PDF dan hasil output\n",
        "pdf_file_path = '/content/Oxford3000.pdf'\n",
        "ocr_txt_file_path = '/content/Extracted_Text_OCR.txt'\n",
        "ocr_excel_file_path = '/content/Extracted_Text_OCR.xlsx'\n",
        "processed_txt_file_path = '/content/processed_words.txt'\n",
        "processed_excel_file_path = '/content/processed_words.xlsx'\n",
        "\n",
        "# Langkah 1: Ekstrak teks dari PDF dan simpan hasilnya\n",
        "ocr_text = extract_text_from_pdf(pdf_file_path)\n",
        "save_text_to_files(ocr_text, ocr_txt_file_path, ocr_excel_file_path)\n",
        "\n",
        "# Langkah 2: Proses file teks dan simpan hasil yang telah difilter\n",
        "process_text_file(ocr_txt_file_path, processed_txt_file_path, processed_excel_file_path)\n"
      ],
      "metadata": {
        "id": "KYHA9ncNutnH"
      },
      "execution_count": null,
      "outputs": []
    }
  ]
}